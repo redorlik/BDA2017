{
 "cells": [
  {
   "cell_type": "code",
   "execution_count": 1,
   "metadata": {},
   "outputs": [
    {
     "name": "stdout",
     "output_type": "stream",
     "text": [
      "Populating the interactive namespace from numpy and matplotlib\n"
     ]
    }
   ],
   "source": [
    "%pylab inline"
   ]
  },
  {
   "cell_type": "code",
   "execution_count": 3,
   "metadata": {},
   "outputs": [],
   "source": [
    "import sklearn"
   ]
  },
  {
   "cell_type": "code",
   "execution_count": 4,
   "metadata": {
    "collapsed": true
   },
   "outputs": [],
   "source": [
    "from sklearn.decomposition import PCA"
   ]
  },
  {
   "cell_type": "code",
   "execution_count": 65,
   "metadata": {
    "collapsed": true
   },
   "outputs": [],
   "source": [
    "model=PCA(n_components=1) #,whiten=True)"
   ]
  },
  {
   "cell_type": "code",
   "execution_count": 10,
   "metadata": {
    "collapsed": true
   },
   "outputs": [],
   "source": [
    "import pandas as pd"
   ]
  },
  {
   "cell_type": "code",
   "execution_count": 17,
   "metadata": {},
   "outputs": [],
   "source": [
    "import codecs\n",
    "\n",
    "root = '/Users/alehmann/Documents/Documents/HIH/BDA/BDA2017/data/'\n",
    "def read_energi_data(f):\n",
    "    with codecs.open(root+f,encoding='8859') as f:\n",
    "        col = []\n",
    "        l=f.readline().strip()\n",
    "        while l:\n",
    "            col.append(' '.join(l.split()[1:]))\n",
    "            l=f.readline().strip()\n",
    "        \n",
    "        dat = pd.read_csv(f,sep=';', skipinitialspace=True,lineterminator ='\\n',infer_datetime_format=True)\n",
    "        dat = dat.drop(dat.columns[-1],1)\n",
    "        \n",
    "        dat.columns = [dat.columns[0]] + col\n",
    "        dat = dat.set_index(dat.columns[0])\n",
    "    return dat\n",
    "\n"
   ]
  },
  {
   "cell_type": "code",
   "execution_count": 71,
   "metadata": {},
   "outputs": [
    {
     "data": {
      "text/plain": [
       "Dato og tid      \n",
       "2016-12-08 00:00     190\n",
       "2016-12-08 00:05     184\n",
       "2016-12-08 00:10     180\n",
       "2016-12-08 00:15     175\n",
       "2016-12-08 00:20     170\n",
       "2016-12-08 00:25     166\n",
       "2016-12-08 00:30     166\n",
       "2016-12-08 00:35     166\n",
       "2016-12-08 00:40     165\n",
       "2016-12-08 00:45     164\n",
       "2016-12-08 00:50     163\n",
       "2016-12-08 00:55     162\n",
       "2016-12-08 01:00     163\n",
       "2016-12-08 01:05     165\n",
       "2016-12-08 01:10     164\n",
       "2016-12-08 01:15     165\n",
       "2016-12-08 01:20     166\n",
       "2016-12-08 01:25     167\n",
       "2016-12-08 01:30     169\n",
       "2016-12-08 01:35     169\n",
       "2016-12-08 01:40     168\n",
       "2016-12-08 01:45     166\n",
       "2016-12-08 01:50     163\n",
       "2016-12-08 01:55     162\n",
       "2016-12-08 02:00     160\n",
       "2016-12-08 02:05     162\n",
       "2016-12-08 02:10     164\n",
       "2016-12-08 02:15     164\n",
       "2016-12-08 02:20     164\n",
       "2016-12-08 02:25     165\n",
       "                    ... \n",
       "2016-12-08 21:30     300\n",
       "2016-12-08 21:35     300\n",
       "2016-12-08 21:40     303\n",
       "2016-12-08 21:45     303\n",
       "2016-12-08 21:50     301\n",
       "2016-12-08 21:55     300\n",
       "2016-12-08 22:00     298\n",
       "2016-12-08 22:05     297\n",
       "2016-12-08 22:10     293\n",
       "2016-12-08 22:15     293\n",
       "2016-12-08 22:20     290\n",
       "2016-12-08 22:25     291\n",
       "2016-12-08 22:30     288\n",
       "2016-12-08 22:35     281\n",
       "2016-12-08 22:40     274\n",
       "2016-12-08 22:45     273\n",
       "2016-12-08 22:50     274\n",
       "2016-12-08 22:55     284\n",
       "2016-12-08 23:00     292\n",
       "2016-12-08 23:05     292\n",
       "2016-12-08 23:10     287\n",
       "2016-12-08 23:15     287\n",
       "2016-12-08 23:20     287\n",
       "2016-12-08 23:25     289\n",
       "2016-12-08 23:30     292\n",
       "2016-12-08 23:35     292\n",
       "2016-12-08 23:40     294\n",
       "2016-12-08 23:45     297\n",
       "2016-12-08 23:50     299\n",
       "2016-12-08 23:55     299\n",
       "Name: CO2 udledning, Length: 288, dtype: int64"
      ]
     },
     "execution_count": 71,
     "metadata": {},
     "output_type": "execute_result"
    }
   ],
   "source": [
    "energi = read_energi_data('20161208_onlinedata.txt')\n",
    "co2 = energi['CO2 udledning']\n",
    "co2"
   ]
  },
  {
   "cell_type": "code",
   "execution_count": 72,
   "metadata": {},
   "outputs": [],
   "source": [
    "energi=energi.drop(['Temperatur i Malling','Vindhastighed i Malling'],axis=1)"
   ]
  },
  {
   "cell_type": "code",
   "execution_count": 73,
   "metadata": {},
   "outputs": [],
   "source": [
    "energi=energi.drop('CO2 udledning',axis=1)"
   ]
  },
  {
   "cell_type": "code",
   "execution_count": 74,
   "metadata": {},
   "outputs": [],
   "source": [
    "res = model.fit(energi).transform(energi)"
   ]
  },
  {
   "cell_type": "code",
   "execution_count": 75,
   "metadata": {},
   "outputs": [
    {
     "name": "stdout",
     "output_type": "stream",
     "text": [
      "(288, 1) (288, 17)\n"
     ]
    }
   ],
   "source": [
    "print(res.shape,energi.shape)"
   ]
  },
  {
   "cell_type": "code",
   "execution_count": 84,
   "metadata": {},
   "outputs": [
    {
     "data": {
      "text/plain": [
       "<matplotlib.axes._subplots.AxesSubplot at 0x114ae79b0>"
      ]
     },
     "execution_count": 84,
     "metadata": {},
     "output_type": "execute_result"
    },
    {
     "data": {
      "image/png": "[encoded data removed]",
      "text/plain": [
       "<matplotlib.figure.Figure at 0x114a25ef0>"
      ]
     },
     "metadata": {},
     "output_type": "display_data"
    }
   ],
   "source": [
    "fig,ax = plt.subplots()\n",
    "\n",
    "ax.plot(res) #plt.scatter(res[:,0],res[:,1])\n",
    "ax2 = ax.twinx()\n",
    "co2.plot(style='r')"
   ]
  },
  {
   "cell_type": "code",
   "execution_count": 85,
   "metadata": {},
   "outputs": [
    {
     "data": {
      "text/plain": [
       "array([ 0.79257213])"
      ]
     },
     "execution_count": 85,
     "metadata": {},
     "output_type": "execute_result"
    }
   ],
   "source": [
    "model.explained_variance_ratio_"
   ]
  },
  {
   "cell_type": "code",
   "execution_count": 94,
   "metadata": {},
   "outputs": [
    {
     "data": {
      "text/plain": [
       "array([['0.125979969864', 'Centrale kraftværker DK1'],\n",
       "       ['0.0126390459152', 'Centrale kraftværker DK2'],\n",
       "       ['0.0598738629661', 'Decentrale kraftværker DK1'],\n",
       "       ['0.0148157729728', 'Decentrale kraftværker DK2'],\n",
       "       ['-0.441671028463', 'Vindmøller DK1'],\n",
       "       ['-0.0702699907432', 'Vindmøller DK2'],\n",
       "       ['0.674366257839', 'Udveksling Jylland-Norge'],\n",
       "       ['-0.0651516252871', 'Udveksling Jylland-Sverige'],\n",
       "       ['-0.153547562863', 'Udveksling Jylland-Tyskland'],\n",
       "       ['0.300936610692', 'Udveksling Sjælland-Sverige'],\n",
       "       ['-0.0773244972155', 'Udveksling Sjælland-Tyskland'],\n",
       "       ['0.0010937978331', 'Udveksling Bornholm-Sverige'],\n",
       "       ['0.00979959253768', 'Udveksling Fyn-Sjaelland'],\n",
       "       ['-0.0690489835037', 'Havmøller DK'],\n",
       "       ['-0.442894138338', 'Landmøller DK'],\n",
       "       ['-0.00042083450054', 'Solceller DK1'],\n",
       "       ['-3.39670392645e-05', 'Solceller DK2']], \n",
       "      dtype='<U32')"
      ]
     },
     "execution_count": 94,
     "metadata": {},
     "output_type": "execute_result"
    }
   ],
   "source": [
    "np.sort(list(zip(model.components_[0],energi.columns)),axis=1)"
   ]
  },
  {
   "cell_type": "code",
   "execution_count": 95,
   "metadata": {},
   "outputs": [],
   "source": [
    "a=list(zip(model.components_[0],energi.columns))"
   ]
  },
  {
   "cell_type": "code",
   "execution_count": 97,
   "metadata": {},
   "outputs": [
    {
     "data": {
      "text/plain": [
       "[(-0.44289413833772051, 'Landmøller DK'),\n",
       " (-0.44167102846258782, 'Vindmøller DK1'),\n",
       " (-0.15354756286331547, 'Udveksling Jylland-Tyskland'),\n",
       " (-0.077324497215453369, 'Udveksling Sjælland-Tyskland'),\n",
       " (-0.070269990743190472, 'Vindmøller DK2'),\n",
       " (-0.069048983503659025, 'Havmøller DK'),\n",
       " (-0.065151625287061241, 'Udveksling Jylland-Sverige'),\n",
       " (-0.00042083450054026617, 'Solceller DK1'),\n",
       " (-3.3967039264532464e-05, 'Solceller DK2'),\n",
       " (0.0010937978330958185, 'Udveksling Bornholm-Sverige'),\n",
       " (0.0097995925376813779, 'Udveksling Fyn-Sjaelland'),\n",
       " (0.012639045915224379, 'Centrale kraftværker DK2'),\n",
       " (0.014815772972828101, 'Decentrale kraftværker DK2'),\n",
       " (0.059873862966092824, 'Decentrale kraftværker DK1'),\n",
       " (0.12597996986359525, 'Centrale kraftværker DK1'),\n",
       " (0.30093661069170835, 'Udveksling Sjælland-Sverige'),\n",
       " (0.67436625783851456, 'Udveksling Jylland-Norge')]"
      ]
     },
     "execution_count": 97,
     "metadata": {},
     "output_type": "execute_result"
    }
   ],
   "source": [
    "a.sort()\n",
    "a"
   ]
  },
  {
   "cell_type": "code",
   "execution_count": null,
   "metadata": {
    "collapsed": true
   },
   "outputs": [],
   "source": []
  }
 ],
 "metadata": {
  "kernelspec": {
   "display_name": "Python 3",
   "language": "python",
   "name": "python3"
  },
  "language_info": {
   "codemirror_mode": {
    "name": "ipython",
    "version": 3
   },
   "file_extension": ".py",
   "mimetype": "text/x-python",
   "name": "python",
   "nbconvert_exporter": "python",
   "pygments_lexer": "ipython3",
   "version": "3.6.0"
  }
 },
 "nbformat": 4,
 "nbformat_minor": 2
}
