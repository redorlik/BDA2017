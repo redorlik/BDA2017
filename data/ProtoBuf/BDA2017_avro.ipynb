{
 "cells": [
  {
   "cell_type": "code",
   "execution_count": 4,
   "metadata": {},
   "outputs": [],
   "source": [
    "import avro\n",
    "import avro.schema\n",
    "from avro.datafile import DataFileReader,DataFileWriter\n",
    "from avro.io import DatumWriter,DatumReader\n",
    "\n",
    "import datetime"
   ]
  },
  {
   "cell_type": "code",
   "execution_count": 24,
   "metadata": {},
   "outputs": [],
   "source": [
    "schema_trip = '''{\"namespace\":\"bda2017.trip\",\n",
    "                    \"type\": \"record\",\n",
    "                     \"name\": \"Trip\",\n",
    "                     \"fields\": [\n",
    "                         {\"name\": \"date\", \"type\":\"long\",\"logicalType\": \"timestamp-micros\"},\n",
    "                         {\"name\": \"speed\",  \"type\": [\"float\", \"null\"]},\n",
    "                         {\"name\": \"latitude\", \"type\": \"float\"},\n",
    "                         {\"name\": \"longitude\", \"type\": \"float\"}, \n",
    "                         {\"name\": \"satellites\", \"type\": \"int\"}\n",
    " ]\n",
    "}'''"
   ]
  },
  {
   "cell_type": "code",
   "execution_count": 25,
   "metadata": {},
   "outputs": [],
   "source": [
    "fname = \"/Users/alehmann/Documents/Documents/HIH/BDA/BDA2017/data/ProtoBuf/trip.avro\""
   ]
  },
  {
   "cell_type": "code",
   "execution_count": 40,
   "metadata": {},
   "outputs": [],
   "source": [
    "schema = avro.schema.Parse(schema_trip)\n",
    "with open(fname,\"wb\") as f:\n",
    "    writer = DataFileWriter(f,DatumWriter(),schema)\n",
    "    writer.append({\"date\":int(datetime.datetime.now().timestamp()*10**6),\"latitude\":9.899,\n",
    "                  \"longitude\":57.9090,\"speed\":2.5,\"satellites\":8})\n",
    "    writer.close()\n",
    "    "
   ]
  },
  {
   "cell_type": "code",
   "execution_count": 42,
   "metadata": {},
   "outputs": [
    {
     "name": "stdout",
     "output_type": "stream",
     "text": [
      "Obj\u0001\u0004\u0014avro.codec\bnull\u0016avro.schema�\u0004{\"type\": \"record\", \"name\": \"Trip\", \"namespace\": \"bda2017.trip\", \"fields\": [{\"logicalType\": \"timestamp-micros\", \"type\": \"long\", \"name\": \"date\"}, {\"type\": [\"float\", \"null\"], \"name\": \"speed\"}, {\"type\": \"float\", \"name\": \"latitude\"}, {\"type\": \"float\", \"name\": \"longitude\"}, {\"type\": \"int\", \"name\": \"satellites\"}]}\u0000�F*W\u001a�*��\u0013ps��\u0017�\u0002,���؅��\u0005\u0000\u0000\u0000 @Nb\u001e",
      "AѢgB\u0010�F*W\u001a�*��\u0013ps��\u0017�"
     ]
    }
   ],
   "source": [
    "!cat $fname"
   ]
  },
  {
   "cell_type": "code",
   "execution_count": 44,
   "metadata": {},
   "outputs": [
    {
     "name": "stdout",
     "output_type": "stream",
     "text": [
      "{'date': 1509613049412698, 'speed': 2.5, 'latitude': 9.89900016784668, 'longitude': 57.909000396728516, 'satellites': 8}\n"
     ]
    }
   ],
   "source": [
    "with open(fname,\"rb\") as f:\n",
    "    reader = DataFileReader(f,DatumReader())\n",
    "    for gps in reader:\n",
    "        print(gps)"
   ]
  },
  {
   "cell_type": "code",
   "execution_count": null,
   "metadata": {},
   "outputs": [],
   "source": []
  }
 ],
 "metadata": {
  "kernelspec": {
   "display_name": "Python 3",
   "language": "python",
   "name": "python3"
  },
  "language_info": {
   "codemirror_mode": {
    "name": "ipython",
    "version": 3
   },
   "file_extension": ".py",
   "mimetype": "text/x-python",
   "name": "python",
   "nbconvert_exporter": "python",
   "pygments_lexer": "ipython3",
   "version": "3.6.0"
  }
 },
 "nbformat": 4,
 "nbformat_minor": 2
}
